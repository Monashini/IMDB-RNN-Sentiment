{
 "cells": [
  {
   "cell_type": "code",
   "execution_count": 5,
   "id": "c48cd1c0-af3c-4b44-9bc7-0c3b4b5c0f7a",
   "metadata": {},
   "outputs": [],
   "source": [
    "import numpy as np\n",
    "import tensorflow as tf\n",
    "from tensorflow.keras.datasets import imdb\n",
    "from tensorflow.keras.preprocessing import sequence\n",
    "from tensorflow.keras.models import load_model"
   ]
  },
  {
   "cell_type": "code",
   "execution_count": 9,
   "id": "781cd042-f522-4aff-bbad-43e644e7dbc4",
   "metadata": {},
   "outputs": [],
   "source": [
    "word_index=imdb.get_word_index()\n",
    "reverse_word_index={value:key for key,value in word_index.items()}"
   ]
  },
  {
   "cell_type": "code",
   "execution_count": 11,
   "id": "79d50523-c1a2-4fc5-b917-ef33d324b46f",
   "metadata": {},
   "outputs": [
    {
     "name": "stderr",
     "output_type": "stream",
     "text": [
      "WARNING:absl:Compiled the loaded model, but the compiled metrics have yet to be built. `model.compile_metrics` will be empty until you train or evaluate the model.\n"
     ]
    },
    {
     "data": {
      "text/html": [
       "<pre style=\"white-space:pre;overflow-x:auto;line-height:normal;font-family:Menlo,'DejaVu Sans Mono',consolas,'Courier New',monospace\"><span style=\"font-weight: bold\">Model: \"sequential_4\"</span>\n",
       "</pre>\n"
      ],
      "text/plain": [
       "\u001b[1mModel: \"sequential_4\"\u001b[0m\n"
      ]
     },
     "metadata": {},
     "output_type": "display_data"
    },
    {
     "data": {
      "text/html": [
       "<pre style=\"white-space:pre;overflow-x:auto;line-height:normal;font-family:Menlo,'DejaVu Sans Mono',consolas,'Courier New',monospace\">┏━━━━━━━━━━━━━━━━━━━━━━━━━━━━━━━━━┳━━━━━━━━━━━━━━━━━━━━━━━━┳━━━━━━━━━━━━━━━┓\n",
       "┃<span style=\"font-weight: bold\"> Layer (type)                    </span>┃<span style=\"font-weight: bold\"> Output Shape           </span>┃<span style=\"font-weight: bold\">       Param # </span>┃\n",
       "┡━━━━━━━━━━━━━━━━━━━━━━━━━━━━━━━━━╇━━━━━━━━━━━━━━━━━━━━━━━━╇━━━━━━━━━━━━━━━┩\n",
       "│ embedding_2 (<span style=\"color: #0087ff; text-decoration-color: #0087ff\">Embedding</span>)         │ (<span style=\"color: #00d7ff; text-decoration-color: #00d7ff\">None</span>, <span style=\"color: #00af00; text-decoration-color: #00af00\">500</span>, <span style=\"color: #00af00; text-decoration-color: #00af00\">128</span>)       │     <span style=\"color: #00af00; text-decoration-color: #00af00\">1,280,000</span> │\n",
       "├─────────────────────────────────┼────────────────────────┼───────────────┤\n",
       "│ simple_rnn_1 (<span style=\"color: #0087ff; text-decoration-color: #0087ff\">SimpleRNN</span>)        │ (<span style=\"color: #00d7ff; text-decoration-color: #00d7ff\">None</span>, <span style=\"color: #00af00; text-decoration-color: #00af00\">128</span>)            │        <span style=\"color: #00af00; text-decoration-color: #00af00\">32,896</span> │\n",
       "├─────────────────────────────────┼────────────────────────┼───────────────┤\n",
       "│ dense (<span style=\"color: #0087ff; text-decoration-color: #0087ff\">Dense</span>)                   │ (<span style=\"color: #00d7ff; text-decoration-color: #00d7ff\">None</span>, <span style=\"color: #00af00; text-decoration-color: #00af00\">1</span>)              │           <span style=\"color: #00af00; text-decoration-color: #00af00\">129</span> │\n",
       "└─────────────────────────────────┴────────────────────────┴───────────────┘\n",
       "</pre>\n"
      ],
      "text/plain": [
       "┏━━━━━━━━━━━━━━━━━━━━━━━━━━━━━━━━━┳━━━━━━━━━━━━━━━━━━━━━━━━┳━━━━━━━━━━━━━━━┓\n",
       "┃\u001b[1m \u001b[0m\u001b[1mLayer (type)                   \u001b[0m\u001b[1m \u001b[0m┃\u001b[1m \u001b[0m\u001b[1mOutput Shape          \u001b[0m\u001b[1m \u001b[0m┃\u001b[1m \u001b[0m\u001b[1m      Param #\u001b[0m\u001b[1m \u001b[0m┃\n",
       "┡━━━━━━━━━━━━━━━━━━━━━━━━━━━━━━━━━╇━━━━━━━━━━━━━━━━━━━━━━━━╇━━━━━━━━━━━━━━━┩\n",
       "│ embedding_2 (\u001b[38;5;33mEmbedding\u001b[0m)         │ (\u001b[38;5;45mNone\u001b[0m, \u001b[38;5;34m500\u001b[0m, \u001b[38;5;34m128\u001b[0m)       │     \u001b[38;5;34m1,280,000\u001b[0m │\n",
       "├─────────────────────────────────┼────────────────────────┼───────────────┤\n",
       "│ simple_rnn_1 (\u001b[38;5;33mSimpleRNN\u001b[0m)        │ (\u001b[38;5;45mNone\u001b[0m, \u001b[38;5;34m128\u001b[0m)            │        \u001b[38;5;34m32,896\u001b[0m │\n",
       "├─────────────────────────────────┼────────────────────────┼───────────────┤\n",
       "│ dense (\u001b[38;5;33mDense\u001b[0m)                   │ (\u001b[38;5;45mNone\u001b[0m, \u001b[38;5;34m1\u001b[0m)              │           \u001b[38;5;34m129\u001b[0m │\n",
       "└─────────────────────────────────┴────────────────────────┴───────────────┘\n"
      ]
     },
     "metadata": {},
     "output_type": "display_data"
    },
    {
     "data": {
      "text/html": [
       "<pre style=\"white-space:pre;overflow-x:auto;line-height:normal;font-family:Menlo,'DejaVu Sans Mono',consolas,'Courier New',monospace\"><span style=\"font-weight: bold\"> Total params: </span><span style=\"color: #00af00; text-decoration-color: #00af00\">1,313,027</span> (5.01 MB)\n",
       "</pre>\n"
      ],
      "text/plain": [
       "\u001b[1m Total params: \u001b[0m\u001b[38;5;34m1,313,027\u001b[0m (5.01 MB)\n"
      ]
     },
     "metadata": {},
     "output_type": "display_data"
    },
    {
     "data": {
      "text/html": [
       "<pre style=\"white-space:pre;overflow-x:auto;line-height:normal;font-family:Menlo,'DejaVu Sans Mono',consolas,'Courier New',monospace\"><span style=\"font-weight: bold\"> Trainable params: </span><span style=\"color: #00af00; text-decoration-color: #00af00\">1,313,025</span> (5.01 MB)\n",
       "</pre>\n"
      ],
      "text/plain": [
       "\u001b[1m Trainable params: \u001b[0m\u001b[38;5;34m1,313,025\u001b[0m (5.01 MB)\n"
      ]
     },
     "metadata": {},
     "output_type": "display_data"
    },
    {
     "data": {
      "text/html": [
       "<pre style=\"white-space:pre;overflow-x:auto;line-height:normal;font-family:Menlo,'DejaVu Sans Mono',consolas,'Courier New',monospace\"><span style=\"font-weight: bold\"> Non-trainable params: </span><span style=\"color: #00af00; text-decoration-color: #00af00\">0</span> (0.00 B)\n",
       "</pre>\n"
      ],
      "text/plain": [
       "\u001b[1m Non-trainable params: \u001b[0m\u001b[38;5;34m0\u001b[0m (0.00 B)\n"
      ]
     },
     "metadata": {},
     "output_type": "display_data"
    },
    {
     "data": {
      "text/html": [
       "<pre style=\"white-space:pre;overflow-x:auto;line-height:normal;font-family:Menlo,'DejaVu Sans Mono',consolas,'Courier New',monospace\"><span style=\"font-weight: bold\"> Optimizer params: </span><span style=\"color: #00af00; text-decoration-color: #00af00\">2</span> (12.00 B)\n",
       "</pre>\n"
      ],
      "text/plain": [
       "\u001b[1m Optimizer params: \u001b[0m\u001b[38;5;34m2\u001b[0m (12.00 B)\n"
      ]
     },
     "metadata": {},
     "output_type": "display_data"
    }
   ],
   "source": [
    "#load the model\n",
    "model = load_model('simple_rnn_imdb.h5')\n",
    "model.summary()"
   ]
  },
  {
   "cell_type": "code",
   "execution_count": 13,
   "id": "88f628a8-d82d-44f7-9a84-a59d8e2e9a39",
   "metadata": {},
   "outputs": [
    {
     "data": {
      "text/plain": [
       "[array([[-0.16377285,  0.20340052,  0.30632222, ...,  0.03342181,\n",
       "         -0.26421842, -0.10254011],\n",
       "        [-0.10906391, -0.03358301,  0.02978254, ...,  0.05286505,\n",
       "         -0.02538531, -0.06764492],\n",
       "        [ 0.02601774, -0.02877959, -0.02612946, ..., -0.04696717,\n",
       "          0.02524804, -0.02888217],\n",
       "        ...,\n",
       "        [ 0.00817798,  0.00500658, -0.01332068, ..., -0.0282651 ,\n",
       "         -0.05476364,  0.02700337],\n",
       "        [ 0.15771052,  0.09334057,  0.09932619, ..., -0.09691337,\n",
       "         -0.03422781,  0.05417462],\n",
       "        [-0.10682417, -0.00981845,  0.01431449, ...,  0.0566046 ,\n",
       "         -0.0282661 , -0.10369988]], dtype=float32),\n",
       " array([[-6.99408352e-02,  1.99902300e-02, -1.81921050e-01, ...,\n",
       "          3.28186639e-02, -8.27234834e-02, -2.24108741e-01],\n",
       "        [-3.30689847e-01, -2.48146370e-01,  5.88838942e-02, ...,\n",
       "         -1.41924977e-01,  1.23383272e-02, -2.62923419e-01],\n",
       "        [-1.07641466e-01, -1.16617262e-01, -5.13831787e-02, ...,\n",
       "         -1.27272084e-01, -1.57605521e-02, -1.28096148e-01],\n",
       "        ...,\n",
       "        [ 7.28447214e-02,  2.34962419e-01,  1.03082344e-01, ...,\n",
       "         -3.72899957e-02, -3.76356654e-02, -1.91772880e-04],\n",
       "        [ 2.33720586e-01,  1.27985016e-01,  6.42685294e-02, ...,\n",
       "          1.42909721e-01, -3.64258215e-02,  3.01791221e-01],\n",
       "        [-1.39574498e-01,  3.59846316e-02,  1.43836597e-02, ...,\n",
       "          1.16366804e-01, -8.58309790e-02, -8.45180228e-02]], dtype=float32),\n",
       " array([[-0.13517429,  0.01572019, -0.05134785, ..., -0.15914692,\n",
       "          0.1378129 , -0.00807281],\n",
       "        [ 0.04206581, -0.0365266 ,  0.01608837, ..., -0.10690611,\n",
       "         -0.1527539 , -0.07360774],\n",
       "        [ 0.08041964, -0.05319031, -0.18398608, ..., -0.1062055 ,\n",
       "         -0.06765946, -0.07712469],\n",
       "        ...,\n",
       "        [ 0.131144  , -0.02546413, -0.02537498, ..., -0.07277113,\n",
       "          0.03422852,  0.15758178],\n",
       "        [-0.10847759,  0.0389119 , -0.08362697, ...,  0.02124524,\n",
       "          0.05882185, -0.19555992],\n",
       "        [ 0.05440385, -0.06395695,  0.07532728, ..., -0.01529476,\n",
       "         -0.10268507, -0.11767747]], dtype=float32),\n",
       " array([-0.07767139,  0.02944269,  0.0178998 ,  0.00866438, -0.02991549,\n",
       "         0.00464978, -0.00944745,  0.00367755,  0.00342309,  0.02111585,\n",
       "         0.00115825,  0.02073923, -0.00454374,  0.03956882, -0.02272636,\n",
       "         0.056237  , -0.02149921, -0.01438148,  0.02768982,  0.02697043,\n",
       "        -0.00406529, -0.02073951,  0.01609298,  0.00527491, -0.03060399,\n",
       "        -0.04590866,  0.00446816, -0.05802652,  0.02621642, -0.03800956,\n",
       "         0.01919784, -0.01716279,  0.01678734,  0.0192649 , -0.01418852,\n",
       "         0.02838965, -0.02720029,  0.00772883, -0.01355482,  0.00823957,\n",
       "        -0.01092494, -0.03384626,  0.03715955, -0.02021467, -0.0256741 ,\n",
       "        -0.01799834, -0.04225397, -0.02053577,  0.02828133,  0.01699299,\n",
       "         0.02989913, -0.0106416 ,  0.00977488, -0.03725626, -0.01314362,\n",
       "         0.01018618, -0.03327387,  0.03276871,  0.01481829, -0.01962426,\n",
       "        -0.00306425,  0.02470435,  0.02578158,  0.02190278, -0.02568225,\n",
       "        -0.04104246,  0.01378362,  0.00558205,  0.00619344, -0.01378937,\n",
       "        -0.01183353, -0.0484613 ,  0.06595057,  0.0070387 ,  0.01201158,\n",
       "        -0.01531781, -0.03776677, -0.01114751,  0.0177337 , -0.01319004,\n",
       "         0.01400237, -0.01063353,  0.03969768, -0.02723359,  0.04744685,\n",
       "        -0.01394779,  0.03166573,  0.01039586,  0.07345438,  0.03256595,\n",
       "         0.02537008, -0.03547968,  0.04368168,  0.03209924, -0.00121242,\n",
       "         0.01287709, -0.00027994,  0.01948314,  0.03788815,  0.00495288,\n",
       "         0.00474964, -0.04038503, -0.00918975, -0.03355611,  0.0177639 ,\n",
       "         0.00424048, -0.01170149, -0.01197323,  0.00765996, -0.02224251,\n",
       "        -0.020912  , -0.04642908,  0.02893557, -0.00130104, -0.0109078 ,\n",
       "         0.01834914,  0.02334242,  0.0419305 ,  0.04373839,  0.0388337 ,\n",
       "         0.06183031,  0.04977357,  0.0067239 , -0.01742563,  0.02145937,\n",
       "        -0.01927126, -0.01158584,  0.00432547], dtype=float32),\n",
       " array([[ 0.04589449],\n",
       "        [ 0.08572537],\n",
       "        [ 0.22227588],\n",
       "        [ 0.21910278],\n",
       "        [ 0.17623019],\n",
       "        [-0.07669809],\n",
       "        [ 0.21338299],\n",
       "        [ 0.4389074 ],\n",
       "        [ 0.08917635],\n",
       "        [-0.16138187],\n",
       "        [-0.09512039],\n",
       "        [ 0.15298577],\n",
       "        [-0.28019112],\n",
       "        [-0.12608358],\n",
       "        [ 0.15619849],\n",
       "        [-0.10931239],\n",
       "        [-0.0335745 ],\n",
       "        [ 0.2429646 ],\n",
       "        [-0.09848811],\n",
       "        [ 0.27255282],\n",
       "        [ 0.1273362 ],\n",
       "        [ 0.20851429],\n",
       "        [ 0.18738258],\n",
       "        [ 0.03610727],\n",
       "        [-0.00990962],\n",
       "        [ 0.16982491],\n",
       "        [ 0.08207808],\n",
       "        [-0.0219384 ],\n",
       "        [ 0.00399134],\n",
       "        [-0.12996416],\n",
       "        [-0.06444859],\n",
       "        [ 0.01083279],\n",
       "        [ 0.1525963 ],\n",
       "        [ 0.09070165],\n",
       "        [ 0.4406482 ],\n",
       "        [ 0.0853722 ],\n",
       "        [ 0.15679027],\n",
       "        [ 0.12521164],\n",
       "        [ 0.02721615],\n",
       "        [-0.1564797 ],\n",
       "        [ 0.13609055],\n",
       "        [ 0.04319509],\n",
       "        [-0.12908247],\n",
       "        [-0.10512462],\n",
       "        [ 0.06762769],\n",
       "        [-0.17350549],\n",
       "        [-0.2259397 ],\n",
       "        [-0.05997438],\n",
       "        [-0.16353154],\n",
       "        [ 0.21884966],\n",
       "        [-0.26500124],\n",
       "        [-0.11750455],\n",
       "        [ 0.0083853 ],\n",
       "        [ 0.32616198],\n",
       "        [ 0.01273092],\n",
       "        [-0.26078907],\n",
       "        [-0.10497054],\n",
       "        [-0.12603705],\n",
       "        [ 0.23353189],\n",
       "        [-0.18558225],\n",
       "        [-0.17771965],\n",
       "        [-0.00212267],\n",
       "        [ 0.01590185],\n",
       "        [-0.31327996],\n",
       "        [-0.24362125],\n",
       "        [-0.04849477],\n",
       "        [ 0.2536125 ],\n",
       "        [-0.09937862],\n",
       "        [ 0.06694485],\n",
       "        [ 0.27576566],\n",
       "        [-0.2450201 ],\n",
       "        [-0.06848536],\n",
       "        [ 0.1776239 ],\n",
       "        [-0.05353435],\n",
       "        [ 0.14545023],\n",
       "        [-0.02349428],\n",
       "        [ 0.17897655],\n",
       "        [ 0.09856092],\n",
       "        [ 0.09515997],\n",
       "        [ 0.17128742],\n",
       "        [-0.13388282],\n",
       "        [-0.1377851 ],\n",
       "        [-0.23244514],\n",
       "        [ 0.23284183],\n",
       "        [-0.04788584],\n",
       "        [ 0.17038849],\n",
       "        [-0.20054221],\n",
       "        [ 0.08155234],\n",
       "        [-0.2611096 ],\n",
       "        [ 0.14198485],\n",
       "        [-0.09923191],\n",
       "        [ 0.02021201],\n",
       "        [ 0.14440168],\n",
       "        [-0.11996554],\n",
       "        [ 0.08915123],\n",
       "        [-0.2106583 ],\n",
       "        [ 0.22942333],\n",
       "        [-0.30582023],\n",
       "        [ 0.58253413],\n",
       "        [-0.02144375],\n",
       "        [ 0.02980466],\n",
       "        [-0.00402111],\n",
       "        [-0.09903681],\n",
       "        [-0.110336  ],\n",
       "        [ 0.1509855 ],\n",
       "        [-0.10265592],\n",
       "        [ 0.33482116],\n",
       "        [-0.18601036],\n",
       "        [ 0.1417524 ],\n",
       "        [-0.06881188],\n",
       "        [ 0.08475831],\n",
       "        [ 0.07344056],\n",
       "        [-0.12844443],\n",
       "        [-0.09077146],\n",
       "        [-0.07621534],\n",
       "        [ 0.01778071],\n",
       "        [ 0.01089783],\n",
       "        [ 0.1013012 ],\n",
       "        [-0.16798474],\n",
       "        [ 0.2043621 ],\n",
       "        [-0.24336086],\n",
       "        [-0.17166725],\n",
       "        [-0.07363214],\n",
       "        [-0.17997965],\n",
       "        [-0.09215602],\n",
       "        [-0.01649034],\n",
       "        [-0.12430182],\n",
       "        [ 0.2361666 ]], dtype=float32),\n",
       " array([0.03165], dtype=float32)]"
      ]
     },
     "execution_count": 13,
     "metadata": {},
     "output_type": "execute_result"
    }
   ],
   "source": [
    "model.get_weights()"
   ]
  },
  {
   "cell_type": "code",
   "execution_count": 68,
   "id": "652963ea-b6aa-441d-9566-cf66c2fa66ce",
   "metadata": {},
   "outputs": [],
   "source": [
    "#🔁 Decode Function (int → words)\n",
    "def decode_review(encoded_review):\n",
    "    return ' '.join([reverse_word_index.get(i, '?') for i in encoded_review])\n",
    "#🧼 Preprocess Function (text → padded sequence)\n",
    "def preprocess_text(text):\n",
    "    words = text.lower().split()\n",
    "    encoded_review = [1] + [word_index.get(word, 2) for word in words]  # 1 = <START>, 2 = <UNK>\n",
    "    padded_review = sequence.pad_sequences([encoded_review], maxlen=500)\n",
    "    return padded_review\n",
    "\n"
   ]
  },
  {
   "cell_type": "code",
   "execution_count": 98,
   "id": "288a0438-6ad5-4888-8168-4c547f01bfd2",
   "metadata": {},
   "outputs": [],
   "source": [
    "##prediction function\n",
    "def predict_sentiment(review):\n",
    "    preprocessedinput=preprocess_text(review)\n",
    "    prediction=model.predict(preprocessedinput)\n",
    "    sentiment='Positive' if prediction[0][0] > 0.5 else 'Negative'\n",
    "    return sentiment, prediction[0][0]"
   ]
  },
  {
   "cell_type": "code",
   "execution_count": 102,
   "id": "da551da3-bb57-4835-b04e-72d7f827dc94",
   "metadata": {},
   "outputs": [
    {
     "name": "stdout",
     "output_type": "stream",
     "text": [
      "\u001b[1m1/1\u001b[0m \u001b[32m━━━━━━━━━━━━━━━━━━━━\u001b[0m\u001b[37m\u001b[0m \u001b[1m0s\u001b[0m 171ms/step\n",
      "review:the movie is scary buty overall movie was good\n",
      "Sentiment:Negative\n",
      "predictin_score:0.2218979299068451\n"
     ]
    }
   ],
   "source": [
    "##user input n pred\n",
    "example_review= \"the movie is scary buty overall movie was good\"\n",
    "\n",
    "#predict by pred func\n",
    "sentiment,score=predict_sentiment(example_review)\n",
    "print(f\"review:{example_review}\")\n",
    "print(f\"Sentiment:{sentiment}\")\n",
    "print(f\"predictin_score:{score}\")"
   ]
  },
  {
   "cell_type": "code",
   "execution_count": null,
   "id": "face6a0f-a6ce-44ea-b1b0-085136459f6e",
   "metadata": {},
   "outputs": [],
   "source": []
  },
  {
   "cell_type": "code",
   "execution_count": null,
   "id": "f54c8e14-9f5b-4df2-9564-83fab5ea949e",
   "metadata": {},
   "outputs": [],
   "source": []
  },
  {
   "cell_type": "code",
   "execution_count": null,
   "id": "f7ac25b8-f5c7-4d8f-93a3-d980d20d9ee9",
   "metadata": {},
   "outputs": [],
   "source": []
  },
  {
   "cell_type": "code",
   "execution_count": null,
   "id": "cf6a56e2-d146-42c6-8b8f-4fa293093f7e",
   "metadata": {},
   "outputs": [],
   "source": []
  },
  {
   "cell_type": "code",
   "execution_count": null,
   "id": "a4f0190b-8616-4a85-8b13-a3ce4189eabb",
   "metadata": {},
   "outputs": [],
   "source": []
  },
  {
   "cell_type": "code",
   "execution_count": null,
   "id": "3fb66584-0d8d-4c58-bcae-1a4eb6c91b6f",
   "metadata": {},
   "outputs": [],
   "source": []
  },
  {
   "cell_type": "code",
   "execution_count": null,
   "id": "26c65214-d2c8-4900-a7b5-2b39c118b7e7",
   "metadata": {},
   "outputs": [],
   "source": []
  },
  {
   "cell_type": "code",
   "execution_count": null,
   "id": "f0718984-6981-417f-9ed2-7571685dd640",
   "metadata": {},
   "outputs": [],
   "source": []
  },
  {
   "cell_type": "code",
   "execution_count": null,
   "id": "e029045a-bf8e-4d4f-a81d-7693ba87de17",
   "metadata": {},
   "outputs": [],
   "source": []
  },
  {
   "cell_type": "code",
   "execution_count": null,
   "id": "f4af4194-32ec-4e58-adbc-d4ddf69e1528",
   "metadata": {},
   "outputs": [],
   "source": []
  },
  {
   "cell_type": "code",
   "execution_count": null,
   "id": "b164173f-4bad-408f-bdcb-fd451b163d00",
   "metadata": {},
   "outputs": [],
   "source": []
  },
  {
   "cell_type": "code",
   "execution_count": null,
   "id": "e2c430a0-ad0c-4395-9acc-15a2de27dd8c",
   "metadata": {},
   "outputs": [],
   "source": []
  },
  {
   "cell_type": "code",
   "execution_count": null,
   "id": "51aa878e-24dd-47aa-a9f4-44eb9e53fd8c",
   "metadata": {},
   "outputs": [],
   "source": []
  },
  {
   "cell_type": "code",
   "execution_count": null,
   "id": "98017ac6-f419-42ef-96eb-2065a28b122f",
   "metadata": {},
   "outputs": [],
   "source": []
  },
  {
   "cell_type": "code",
   "execution_count": null,
   "id": "52a1ed33-0597-4eb9-ba55-86baf1aedd9a",
   "metadata": {},
   "outputs": [],
   "source": []
  },
  {
   "cell_type": "code",
   "execution_count": null,
   "id": "ac9e19d3-8ed1-43be-ba8f-6b80280f5390",
   "metadata": {},
   "outputs": [],
   "source": []
  },
  {
   "cell_type": "code",
   "execution_count": null,
   "id": "6460b554-2d4c-45a3-ab29-2bb3856b81d1",
   "metadata": {},
   "outputs": [],
   "source": []
  }
 ],
 "metadata": {
  "kernelspec": {
   "display_name": "Python 3 (ipykernel)",
   "language": "python",
   "name": "python3"
  },
  "language_info": {
   "codemirror_mode": {
    "name": "ipython",
    "version": 3
   },
   "file_extension": ".py",
   "mimetype": "text/x-python",
   "name": "python",
   "nbconvert_exporter": "python",
   "pygments_lexer": "ipython3",
   "version": "3.12.3"
  }
 },
 "nbformat": 4,
 "nbformat_minor": 5
}
